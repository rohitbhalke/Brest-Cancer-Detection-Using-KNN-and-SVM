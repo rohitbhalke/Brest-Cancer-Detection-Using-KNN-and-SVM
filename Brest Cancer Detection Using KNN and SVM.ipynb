{
 "cells": [
  {
   "cell_type": "markdown",
   "metadata": {},
   "source": [
    "#    Brest Cancer Detection Using KNN and SVM"
   ]
  },
  {
   "cell_type": "markdown",
   "metadata": {},
   "source": [
    "### Import Required Modules"
   ]
  },
  {
   "cell_type": "code",
   "execution_count": 138,
   "metadata": {},
   "outputs": [
    {
     "name": "stdout",
     "output_type": "stream",
     "text": [
      "3.6.8 |Anaconda, Inc.| (default, Dec 29 2018, 19:04:46) \n",
      "[GCC 4.2.1 Compatible Clang 4.0.1 (tags/RELEASE_401/final)]\n"
     ]
    }
   ],
   "source": [
    "import sys\n",
    "import numpy\n",
    "import sklearn\n",
    "import math\n",
    "\n",
    "import pandas as pd\n",
    "import numpy as np\n",
    "from sklearn import metrics\n",
    "print(sys.version)\n",
    "\n",
    "from sklearn.neighbors import KNeighborsClassifier\n",
    "from sklearn import svm"
   ]
  },
  {
   "cell_type": "markdown",
   "metadata": {},
   "source": [
    "### Load the data"
   ]
  },
  {
   "cell_type": "code",
   "execution_count": 91,
   "metadata": {},
   "outputs": [
    {
     "name": "stdout",
     "output_type": "stream",
     "text": [
      "(698, 11)\n"
     ]
    }
   ],
   "source": [
    "\n",
    "url = \"https://archive.ics.uci.edu/ml/machine-learning-databases/breast-cancer-wisconsin/breast-cancer-wisconsin.data\"\n",
    "\n",
    "df = pd.read_csv(url)\n",
    "print(df.shape)\n",
    "\n",
    "# Attribute Information \n",
    "# 1. Sample code number: id number \n",
    "# 2. Clump Thickness: 1 - 10 \n",
    "# 3. Uniformity of Cell Size: 1 - 10 \n",
    "# 4. Uniformity of Cell Shape: 1 - 10 \n",
    "# 5. Marginal Adhesion: 1 - 10 \n",
    "# 6. Single Epithelial Cell Size: 1 - 10 \n",
    "# 7. Bare Nuclei: 1 - 10 \n",
    "# 8. Bland Chromatin: 1 - 10 \n",
    "# 9. Normal Nucleoli: 1 - 10 \n",
    "# 10. Mitoses: 1 - 10 \n",
    "# 11. Class: (2 for benign, 4 for malignant)"
   ]
  },
  {
   "cell_type": "markdown",
   "metadata": {},
   "source": [
    "### Drop the first column as it is id and doesn't signify any important information"
   ]
  },
  {
   "cell_type": "code",
   "execution_count": 84,
   "metadata": {},
   "outputs": [],
   "source": [
    "\n",
    "df.drop('1000025',axis=1,inplace=True)\n"
   ]
  },
  {
   "cell_type": "code",
   "execution_count": 143,
   "metadata": {},
   "outputs": [
    {
     "name": "stdout",
     "output_type": "stream",
     "text": [
      "   1000025  5   1  1.1  1.2  2 1.3  3  1.4  1.5  2.1\n",
      "0  1002945  5   4    4    5  7  10  3    2    1    2\n",
      "1  1015425  3   1    1    1  2   2  3    1    1    2\n",
      "2  1016277  6   8    8    1  3   4  3    7    1    2\n",
      "3  1017023  4   1    1    3  2   1  3    1    1    2\n",
      "4  1017122  8  10   10    8  7  10  9    7    1    4\n",
      "5  1018099  1   1    1    1  2  10  3    1    1    2\n",
      "6  1018561  2   1    2    1  2   1  3    1    1    2\n",
      "7  1033078  2   1    1    1  2   1  1    1    5    2\n",
      "8  1033078  4   2    1    1  2   1  2    1    1    2\n",
      "9  1035283  1   1    1    1  1   1  3    1    1    2\n"
     ]
    }
   ],
   "source": [
    "df = df.replace('?', -99999)    # some values are ? in the data, replace them\n",
    "print(df[0:10])\n",
    "#df.columns.values"
   ]
  },
  {
   "cell_type": "markdown",
   "metadata": {},
   "source": [
    "\n",
    "### Form the Training data and Test data - 90% data is used as training data"
   ]
  },
  {
   "cell_type": "code",
   "execution_count": 115,
   "metadata": {},
   "outputs": [
    {
     "name": "stdout",
     "output_type": "stream",
     "text": [
      "[[1002945       5       4       4       5       7      10       3       2\n",
      "        1]\n",
      " [1015425       3       1       1       1       2       2       3       1\n",
      "        1]\n",
      " [1016277       6       8       8       1       3       4       3       7\n",
      "        1]\n",
      " [1017023       4       1       1       3       2       1       3       1\n",
      "        1]\n",
      " [1017122       8      10      10       8       7      10       9       7\n",
      "        1]]\n",
      "[2 2 2 2 4]\n",
      "(629, 10)\n",
      "(629,)\n",
      "629\n",
      "(69, 10)\n",
      "(69,)\n"
     ]
    }
   ],
   "source": [
    "X_data = np.array(df.drop(['2.1'],1))\n",
    "Y_data = np.array(df['2.1'])\n",
    "X_data = X_data.astype(int)\n",
    "    \n",
    "print(X_data[0:5])\n",
    "print(Y_data[0:5])\n",
    "\n",
    "\n",
    "training_data_X,training_data_Y = getTrainingData(X_data,Y_data)\n",
    "#validation_data_X,validation_data_Y  = getValidationData(X_data,Y_data)\n",
    "test_dat_X,test_dat_Y = getTestData(X_data,Y_data)"
   ]
  },
  {
   "cell_type": "code",
   "execution_count": 113,
   "metadata": {},
   "outputs": [],
   "source": [
    "def getTrainingData(X_data, Y_data):\n",
    "    row_num = math.ceil(X_data.shape[0] * 0.9)\n",
    "    training_data_X = X_data[0:row_num]\n",
    "    training_data_Y = Y_data[0:row_num]\n",
    "    print(training_data_X.shape)\n",
    "    print(training_data_Y.shape)\n",
    "    return training_data_X, training_data_Y\n"
   ]
  },
  {
   "cell_type": "code",
   "execution_count": 103,
   "metadata": {},
   "outputs": [],
   "source": [
    "def getValidationData(X_data, Y_data):\n",
    "    startRow = math.ceil(X_data.shape[0] * 0.8)\n",
    "    endRow = math.ceil(X_data.shape[0] * 0.8) + math.ceil(X_data.shape[0] * 0.1)\n",
    "    print(startRow, endRow)\n",
    "    validation_data_X = X_data[startRow:endRow]\n",
    "    validation_data_Y = Y_data[startRow:endRow]\n",
    "    print(validation_data_X.shape)\n",
    "    print(validation_data_Y.shape)\n",
    "    return validation_data_X, validation_data_Y"
   ]
  },
  {
   "cell_type": "code",
   "execution_count": 114,
   "metadata": {},
   "outputs": [],
   "source": [
    "def getTestData(X_data, Y_data):\n",
    "    startRow = math.ceil(X_data.shape[0] * 0.9) \n",
    "    #endRow = math.ceil(X_data.shape[0] * 0.8) + math.ceil(X_data.shape[0] * 0.2)\n",
    "    print(startRow)\n",
    "    test_data_X = X_data[startRow:]\n",
    "    test_data_Y = Y_data[startRow:]\n",
    "    print(test_data_X.shape)\n",
    "    print(test_data_Y.shape)\n",
    "    return test_data_X, test_data_Y"
   ]
  },
  {
   "cell_type": "markdown",
   "metadata": {},
   "source": [
    "### Train the Model"
   ]
  },
  {
   "cell_type": "code",
   "execution_count": 134,
   "metadata": {},
   "outputs": [
    {
     "name": "stdout",
     "output_type": "stream",
     "text": [
      "[[1002945       5       4       4       5       7      10       3       2\n",
      "        1]\n",
      " [1015425       3       1       1       1       2       2       3       1\n",
      "        1]\n",
      " [1016277       6       8       8       1       3       4       3       7\n",
      "        1]\n",
      " [1017023       4       1       1       3       2       1       3       1\n",
      "        1]\n",
      " [1017122       8      10      10       8       7      10       9       7\n",
      "        1]]\n",
      "[2 2 2 2 4]\n"
     ]
    },
    {
     "data": {
      "text/plain": [
       "KNeighborsClassifier(algorithm='auto', leaf_size=30, metric='minkowski',\n",
       "                     metric_params=None, n_jobs=None, n_neighbors=5, p=2,\n",
       "                     weights='uniform')"
      ]
     },
     "execution_count": 134,
     "metadata": {},
     "output_type": "execute_result"
    }
   ],
   "source": [
    "print(training_data_X[0:5])\n",
    "print(training_data_Y[0:5])\n",
    "\n",
    "neigh = KNeighborsClassifier(n_neighbors=5)\n",
    "neigh.fit(training_data_X, training_data_Y)"
   ]
  },
  {
   "cell_type": "markdown",
   "metadata": {},
   "source": [
    "Predict the values for validation data"
   ]
  },
  {
   "cell_type": "code",
   "execution_count": 130,
   "metadata": {},
   "outputs": [
    {
     "name": "stdout",
     "output_type": "stream",
     "text": [
      "0.7142857142857143\n"
     ]
    }
   ],
   "source": [
    "# Y_Predict_Validation = neigh.predict(validation_data_X)\n",
    "# print(metrics.accuracy_score(validation_data_Y, Y_Predict_Validation))"
   ]
  },
  {
   "cell_type": "code",
   "execution_count": 144,
   "metadata": {},
   "outputs": [
    {
     "name": "stdout",
     "output_type": "stream",
     "text": [
      "KNN Accuracy:  0.5797101449275363\n"
     ]
    }
   ],
   "source": [
    "Y_Predict_Test = neigh.predict(test_dat_X)\n",
    "print(\"KNN Accuracy: \",metrics.accuracy_score(test_dat_Y, Y_Predict_Test))"
   ]
  },
  {
   "cell_type": "markdown",
   "metadata": {},
   "source": [
    "### Support Vector Machine"
   ]
  },
  {
   "cell_type": "code",
   "execution_count": 145,
   "metadata": {},
   "outputs": [
    {
     "name": "stdout",
     "output_type": "stream",
     "text": [
      "SVM Accuracy:  0.8115942028985508\n"
     ]
    }
   ],
   "source": [
    "clf = svm.SVC(gamma='scale')\n",
    "clf.fit(training_data_X, training_data_Y)  \n",
    "Y_Predict_Test = clf.predict(test_dat_X)\n",
    "print(\"SVM Accuracy: \", metrics.accuracy_score(test_dat_Y, Y_Predict_Test))"
   ]
  }
 ],
 "metadata": {
  "kernelspec": {
   "display_name": "Python 3",
   "language": "python",
   "name": "python3"
  },
  "language_info": {
   "codemirror_mode": {
    "name": "ipython",
    "version": 3
   },
   "file_extension": ".py",
   "mimetype": "text/x-python",
   "name": "python",
   "nbconvert_exporter": "python",
   "pygments_lexer": "ipython3",
   "version": "3.6.8"
  }
 },
 "nbformat": 4,
 "nbformat_minor": 2
}
